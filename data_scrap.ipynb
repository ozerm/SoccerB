{
 "cells": [
  {
   "cell_type": "code",
   "execution_count": 2,
   "metadata": {},
   "outputs": [],
   "source": [
    "from wsgiref import headers\n",
    "import requests\n",
    "from bs4 import BeautifulSoup \n",
    "import pandas as pd\n"
   ]
  },
  {
   "cell_type": "code",
   "execution_count": 3,
   "metadata": {},
   "outputs": [
    {
     "name": "stdout",
     "output_type": "stream",
     "text": [
      "                  League     Home_Team         Away_Team  Home_FH  Away_FH  \\\n",
      "0         Mexican League   Club Atlas             Necaxa        1        0   \n",
      "1         Mexican League      Pachuca        Tigres UANL        0        0   \n",
      "2              UE Europe     West Ham               Lyon        0        0   \n",
      "3              UE Europe        Braga    Glasgow Rangers        1        0   \n",
      "4              UE Europe  E Frankfurt          Barcelona        0        0   \n",
      "..                   ...           ...               ...      ...      ...   \n",
      "151  African Nations Cup        Gabon              Ghana        0        1   \n",
      "152  African Nations Cup       Malawi           Zimbabwe        1        1   \n",
      "153  African Nations Cup      Morocco            Comoros        1        0   \n",
      "154      Indian S League       FC Goa      NorthEast Utd        1        1   \n",
      "155  African Nations Cup      Senegal             Guinea        0        0   \n",
      "\n",
      "     Home_Result  Away_Result  Odds_Home  Odds_Draw  Odds_Away Alt-Ust  \n",
      "0              2            1       1.95       2.80       4.00     UST  \n",
      "1              2            1       1.87       3.30       3.50     UST  \n",
      "2              1            1       1.85       3.40       3.60     ALT  \n",
      "3              1            0       1.87       3.30       3.60     ALT  \n",
      "4              1            1       4.10       3.60       1.72     ALT  \n",
      "..           ...          ...        ...        ...        ...     ...  \n",
      "151            1            1       6.00       3.20       1.58     UST  \n",
      "152            2            1       3.30       2.75       2.20     UST  \n",
      "153            2            0       1.23       4.70      11.00     UST  \n",
      "154            1            1       1.70       3.70       3.80     UST  \n",
      "155            0            0       1.72       3.20       4.40     ALT  \n",
      "\n",
      "[1961 rows x 11 columns]\n"
     ]
    }
   ],
   "source": [
    "\n",
    "yes = pd.DataFrame()\n",
    "a=1\n",
    "for i in range(a,13):\n",
    "    URL = 'https://sgodds.com/football/results-past-odds/page/{}'.format(a)\n",
    "    headers = {'User-Agent': 'Mozilla/5.0 (Windows NT 10.0; Win64; x64) AppleWebKit/537.36 (KHTML, like Gecko) Chrome/99.0.4844.74 Safari/537.36'}\n",
    "    sayfa = requests.get(URL, headers = headers)\n",
    "    icerik = BeautifulSoup(sayfa.content,\"lxml\")\n",
    "    a +=1\n",
    "    takimAdlari =icerik.find_all(\"div\", attrs = {\"class\":\"row border-bottom m-0\"})\n",
    "    strong = icerik.find_all(\"strong\")\n",
    "    takimlar = []\n",
    "    skorlar = []\n",
    "    ligler = []\n",
    "    \n",
    "    for takimAdi in takimAdlari:\n",
    "        takimlar.append(takimAdi.a.text)\n",
    "        ligler.append(takimAdi.div.text)\n",
    "        skorlar.append(takimAdi.find(\"div\", attrs = {\"row\"}).text)  \n",
    "    b = 0\n",
    "    for i in skorlar:\n",
    "        if len(i) != 6:\n",
    "            skorlar[b] = \"0-00-0\"\n",
    "        if i == \"\\xa0 -\\xa0 -\":\n",
    "            skorlar[b] = \"0-00-0\" \n",
    "        b+=1\n",
    "    macSonucu = []    \n",
    "    ilkYari = []\n",
    "    for ilk in skorlar:\n",
    "        ilkYari.append(ilk[0:3])\n",
    "    for ms in skorlar:\n",
    "        macSonucu.append(ms[3:len(ms)])\n",
    "    altUst = []\n",
    "    for i in skorlar:\n",
    "        if (int(i[0]) + int(i[2]) + int(i[3]) + int(i[5])) > 2.5:\n",
    "            altUst.append(\"UST\")\n",
    "        else:\n",
    "            altUst.append(\"ALT\")\n",
    "    evSahibiiy = []\n",
    "    dePiy = []\n",
    "    evSahibiMs = []\n",
    "    depMs = []\n",
    "    for i in ilkYari:\n",
    "        evSahibiiy.append(int(i[0]))\n",
    "\n",
    "    for i in ilkYari:\n",
    "        dePiy.append(int(i[2]))\n",
    "        \n",
    "    for i in macSonucu:\n",
    "        evSahibiMs.append(int(i[0]))\n",
    "\n",
    "    for i in macSonucu:\n",
    "        depMs.append(int(i[2]))     \n",
    "    oranlar = []      \n",
    "    for i in strong:\n",
    "        oranlar.append(i.text)\n",
    "        \n",
    "    yeniOranlar = oranlar[2:-6]\n",
    "    N = 3\n",
    "    subList = [yeniOranlar[n:n+N] for n in range(0, len(yeniOranlar), N)]  \n",
    "    evSahibiOran = []\n",
    "    beraberlikOran= []\n",
    "    deplasmanOran= []\n",
    "    for i in subList:\n",
    "        evSahibiOran.append(float(i[0]))\n",
    "    for i in subList:\n",
    "        beraberlikOran.append(float(i[1]))\n",
    "    for i in subList:\n",
    "        deplasmanOran.append(float(i[2]))\n",
    "    evSahibi = []\n",
    "    deplasman = []\n",
    "    for i in takimlar:\n",
    "        evSahibi.append(i.split(\"vs\")[0])\n",
    "        \n",
    "    for i in takimlar:\n",
    "        deplasman.append(i.split(\"vs\")[1])\n",
    "        \n",
    "    dicti = {'League' : ligler , 'Home_Team':evSahibi,'Away_Team':deplasman,'Home_FH':evSahibiiy,\"Away_FH\":dePiy,\"Home_Result\":evSahibiMs,\"Away_Result\":depMs,\"Odds_Home\":evSahibiOran,\"Odds_Draw\":beraberlikOran,\"Odds_Away\":deplasmanOran,\"Alt-Ust\":altUst}\n",
    "    \n",
    "    daf = pd.DataFrame(dicti)\n",
    "    \n",
    "    yes = pd.concat([yes,daf])\n"
   ]
  },
  {
   "cell_type": "code",
   "execution_count": 1,
   "metadata": {},
   "outputs": [
    {
     "ename": "NameError",
     "evalue": "name 'yes' is not defined",
     "output_type": "error",
     "traceback": [
      "\u001b[1;31m---------------------------------------------------------------------------\u001b[0m",
      "\u001b[1;31mNameError\u001b[0m                                 Traceback (most recent call last)",
      "\u001b[1;32m<ipython-input-1-99b9c7ebe528>\u001b[0m in \u001b[0;36m<module>\u001b[1;34m\u001b[0m\n\u001b[1;32m----> 1\u001b[1;33m \u001b[0mprem\u001b[0m \u001b[1;33m=\u001b[0m \u001b[0myes\u001b[0m\u001b[1;33m[\u001b[0m\u001b[0myes\u001b[0m\u001b[1;33m[\u001b[0m\u001b[1;34m'League'\u001b[0m\u001b[1;33m]\u001b[0m \u001b[1;33m==\u001b[0m \u001b[1;34m\"English Premier\"\u001b[0m\u001b[1;33m]\u001b[0m\u001b[1;33m\u001b[0m\u001b[1;33m\u001b[0m\u001b[0m\n\u001b[0m\u001b[0;32m      2\u001b[0m \u001b[0mprem\u001b[0m\u001b[1;33m.\u001b[0m\u001b[0mreset_index\u001b[0m\u001b[1;33m(\u001b[0m\u001b[0mdrop\u001b[0m\u001b[1;33m=\u001b[0m\u001b[1;32mTrue\u001b[0m\u001b[1;33m,\u001b[0m \u001b[0minplace\u001b[0m\u001b[1;33m=\u001b[0m\u001b[1;32mTrue\u001b[0m\u001b[1;33m)\u001b[0m\u001b[1;33m\u001b[0m\u001b[1;33m\u001b[0m\u001b[0m\n\u001b[0;32m      3\u001b[0m \u001b[0mprem\u001b[0m\u001b[1;33m.\u001b[0m\u001b[0mto_csv\u001b[0m\u001b[1;33m(\u001b[0m\u001b[1;34m\"Premier_league.csv\"\u001b[0m\u001b[1;33m,\u001b[0m\u001b[0mindex\u001b[0m\u001b[1;33m=\u001b[0m\u001b[1;32mFalse\u001b[0m\u001b[1;33m)\u001b[0m\u001b[1;33m\u001b[0m\u001b[1;33m\u001b[0m\u001b[0m\n\u001b[0;32m      4\u001b[0m \u001b[0mprem\u001b[0m\u001b[1;33m\u001b[0m\u001b[1;33m\u001b[0m\u001b[0m\n",
      "\u001b[1;31mNameError\u001b[0m: name 'yes' is not defined"
     ]
    }
   ],
   "source": [
    "prem = yes[yes['League'] == \"English Premier\"]\n",
    "prem.reset_index(drop=True, inplace=True)\n",
    "prem.to_csv(\"Premier_league.csv\",index=False)\n",
    "prem"
   ]
  }
 ],
 "metadata": {
  "interpreter": {
   "hash": "806168dc026e63023349b0a9c7d58cdfe772e2016299ed12f068d143cae3e31f"
  },
  "kernelspec": {
   "display_name": "Python 3.8.10 64-bit (windows store)",
   "language": "python",
   "name": "python3"
  },
  "language_info": {
   "codemirror_mode": {
    "name": "ipython",
    "version": 3
   },
   "file_extension": ".py",
   "mimetype": "text/x-python",
   "name": "python",
   "nbconvert_exporter": "python",
   "pygments_lexer": "ipython3",
   "version": "3.8.3"
  },
  "orig_nbformat": 4
 },
 "nbformat": 4,
 "nbformat_minor": 2
}
